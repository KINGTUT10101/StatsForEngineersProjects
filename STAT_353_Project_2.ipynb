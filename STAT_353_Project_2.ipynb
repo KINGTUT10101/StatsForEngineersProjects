{
  "cells": [
    {
      "cell_type": "markdown",
      "metadata": {
        "id": "aVgeXCV0GXGl"
      },
      "source": [
        "# Analysis of College Student Behaviors: Exploring Differences in Academic Performance, Sleep, and Lifestyle Factors"
      ]
    },
    {
      "cell_type": "markdown",
      "metadata": {
        "id": "5C1S26dPrlGG"
      },
      "source": [
        "# Background"
      ]
    },
    {
      "cell_type": "markdown",
      "metadata": {
        "id": "ZH-tMhQ06XgH"
      },
      "source": [
        "This is the second project for STAT 353, Statistical Methods I for Engineering. In this report, we analyse data pertaining to 10 research questions and documment the key findings and understandings. The data we use describes the sleeping patterns of college students."
      ]
    },
    {
      "cell_type": "markdown",
      "metadata": {
        "id": "z8auUhJLCGR3"
      },
      "source": [
        "## Research Questions"
      ]
    },
    {
      "cell_type": "markdown",
      "metadata": {
        "id": "Cj_5CimhCIC5"
      },
      "source": [
        "1.   Is there a significant difference in the average GPA between male and female college students?\n",
        "2.   Is there a significant difference in the average number of early classes between the first two class years and other class years?\n",
        "3.   Do students who identify as \"larks\" have significantly better cognitive skills (cognition z-score) compared to \"owls\"?\n",
        "4.   Is there a significant difference in the average number of classes missed in a semester between students who had at least one early class (EarlyClass=1) and those who didn't (EarlyClass=0)?\n",
        "5.   Is there a significant difference in the average happiness level between students with at least moderate depression and normal depression status?\n",
        "6.   Is there a significant difference in average sleep quality scores between students who reported having at least one all-nighter (AllNighter=1) and those who didn't (AllNighter=0)?\n",
        "7.   Do students who abstain from alcohol use have significantly better stress scores than those who report heavy alcohol use?\n",
        "8.   Is there a significant difference in the average number of drinks per week between students of different genders?\n",
        "9.   Is there a significant difference in the average weekday bedtime between students with high and low stress (Stress=High vs. Stress=Normal)?\n",
        "10.   Is there a significant difference in the average hours of sleep on weekends between first two year students and other students?\n"
      ]
    },
    {
      "cell_type": "markdown",
      "metadata": {
        "id": "ebEzdSPi6Y0A"
      },
      "source": [
        "# Task"
      ]
    },
    {
      "cell_type": "markdown",
      "metadata": {
        "id": "u3kVfSEB6aAM"
      },
      "source": [
        "We are tasked with addressing 10 research questions provided by the assignment description. This involved data analysis (using the techniques we've learned since chapter 6) and a summmamry of the key findings."
      ]
    },
    {
      "cell_type": "markdown",
      "metadata": {
        "id": "845Zpsza6gNt"
      },
      "source": [
        "# Data"
      ]
    },
    {
      "cell_type": "markdown",
      "metadata": {
        "id": "PZRo4xra6hJQ"
      },
      "source": [
        "The data used for this project comes from a 2012 research paper created by [Onyper, Thacher, Gilbert, and Gradess](https://pubmed.ncbi.nlm.nih.gov/22390245/). The dataset hosted on [Lock5Stat.com](https://www.lock5stat.com/datapage3e.html) contains 253 observations with 27 columns of data. The data was obtained from college students who were assessed  using surveys, skills tests, and sleep diaries. The data tracks some basic information about each student in addition to their habits and sleeping data."
      ]
    },
    {
      "cell_type": "markdown",
      "metadata": {
        "id": "Q9SUIeOf78lR"
      },
      "source": [
        "# Tools"
      ]
    },
    {
      "cell_type": "markdown",
      "metadata": {
        "id": "l98esWWG79mO"
      },
      "source": [
        "To process and analyze data for this project, we use Google Collab to run Python notebook files. MatPlotLib, Pandas, SciPy, and NumPy are also used for graphing, data manipulation, and mathematical computation. We chose these technologies due to previous experience with them in machine learning projects."
      ]
    },
    {
      "cell_type": "markdown",
      "metadata": {
        "id": "W-18ZokJruS-"
      },
      "source": [
        "# Get the Data"
      ]
    },
    {
      "cell_type": "markdown",
      "metadata": {
        "id": "IxqNKRGb-1a0"
      },
      "source": [
        "Before we get the data, we must import all the necessary libraries."
      ]
    },
    {
      "cell_type": "code",
      "execution_count": 91,
      "metadata": {
        "id": "RYvmKwdk7hs7"
      },
      "outputs": [],
      "source": [
        "# @title\n",
        "import pandas as pd\n",
        "import numpy as np\n",
        "import matplotlib.pyplot as plt\n",
        "from scipy import stats\n",
        "import statsmodels.stats.weightstats as sm"
      ]
    },
    {
      "cell_type": "markdown",
      "metadata": {
        "id": "sCveZX8u-_By"
      },
      "source": [
        "The following code will look for the data file in a local directory and download a new copy if it doesn't exist on the system yet."
      ]
    },
    {
      "cell_type": "code",
      "execution_count": 92,
      "metadata": {
        "id": "W54ek1FXzp6Z"
      },
      "outputs": [],
      "source": [
        "# @title\n",
        "from pathlib import Path\n",
        "import urllib.request\n",
        "\n",
        "def load_housing_data():\n",
        "    filepath = Path(\"datasets/SleepStudy.csv\")\n",
        "    if not filepath.is_file():\n",
        "        Path(\"datasets\").mkdir(parents=True, exist_ok=True)\n",
        "        url = \"https://www.lock5stat.com/datasets3e/SleepStudy.csv\"\n",
        "        urllib.request.urlretrieve(url, filepath)\n",
        "    return pd.read_csv(Path(\"datasets/SleepStudy.csv\"))\n",
        "\n",
        "default_dataset = load_housing_data()"
      ]
    },
    {
      "cell_type": "markdown",
      "metadata": {
        "id": "_sM37gM3_KBv"
      },
      "source": [
        "Taking a look at the first few entries shows that the data was imported successfully!"
      ]
    },
    {
      "cell_type": "code",
      "execution_count": 93,
      "metadata": {
        "colab": {
          "base_uri": "https://localhost:8080/",
          "height": 255
        },
        "id": "k8m4AvH-0QJ0",
        "outputId": "3734ae9e-921a-40d2-e3c2-337ff258c3db"
      },
      "outputs": [
        {
          "output_type": "execute_result",
          "data": {
            "text/plain": [
              "   Gender  ClassYear  LarkOwl  NumEarlyClass  EarlyClass   GPA  ClassesMissed  \\\n",
              "0       0          4  Neither              0           0  3.60              0   \n",
              "1       0          4  Neither              2           1  3.24              0   \n",
              "2       0          4      Owl              0           0  2.97             12   \n",
              "3       0          1     Lark              5           1  3.76              0   \n",
              "4       0          4      Owl              0           0  3.20              4   \n",
              "\n",
              "   CognitionZscore  PoorSleepQuality  DepressionScore  ...  AlcoholUse  \\\n",
              "0            -0.26                 4                4  ...    Moderate   \n",
              "1             1.39                 6                1  ...    Moderate   \n",
              "2             0.38                18               18  ...       Light   \n",
              "3             1.39                 9                1  ...       Light   \n",
              "4             1.22                 9                7  ...    Moderate   \n",
              "\n",
              "   Drinks WeekdayBed WeekdayRise WeekdaySleep  WeekendBed  WeekendRise  \\\n",
              "0      10      25.75        8.70         7.70       25.75         9.50   \n",
              "1       6      25.70        8.20         6.80       26.00        10.00   \n",
              "2       3      27.44        6.55         3.00       28.00        12.59   \n",
              "3       2      23.50        7.17         6.77       27.00         8.00   \n",
              "4       4      25.90        8.67         6.09       23.75         9.50   \n",
              "\n",
              "  WeekendSleep  AverageSleep  AllNighter  \n",
              "0         5.88          7.18           0  \n",
              "1         7.25          6.93           0  \n",
              "2        10.09          5.02           0  \n",
              "3         7.25          6.90           0  \n",
              "4         7.00          6.35           0  \n",
              "\n",
              "[5 rows x 27 columns]"
            ],
            "text/html": [
              "\n",
              "  <div id=\"df-a7511ed4-bd08-4bc9-a4a4-f6a4a434ce59\" class=\"colab-df-container\">\n",
              "    <div>\n",
              "<style scoped>\n",
              "    .dataframe tbody tr th:only-of-type {\n",
              "        vertical-align: middle;\n",
              "    }\n",
              "\n",
              "    .dataframe tbody tr th {\n",
              "        vertical-align: top;\n",
              "    }\n",
              "\n",
              "    .dataframe thead th {\n",
              "        text-align: right;\n",
              "    }\n",
              "</style>\n",
              "<table border=\"1\" class=\"dataframe\">\n",
              "  <thead>\n",
              "    <tr style=\"text-align: right;\">\n",
              "      <th></th>\n",
              "      <th>Gender</th>\n",
              "      <th>ClassYear</th>\n",
              "      <th>LarkOwl</th>\n",
              "      <th>NumEarlyClass</th>\n",
              "      <th>EarlyClass</th>\n",
              "      <th>GPA</th>\n",
              "      <th>ClassesMissed</th>\n",
              "      <th>CognitionZscore</th>\n",
              "      <th>PoorSleepQuality</th>\n",
              "      <th>DepressionScore</th>\n",
              "      <th>...</th>\n",
              "      <th>AlcoholUse</th>\n",
              "      <th>Drinks</th>\n",
              "      <th>WeekdayBed</th>\n",
              "      <th>WeekdayRise</th>\n",
              "      <th>WeekdaySleep</th>\n",
              "      <th>WeekendBed</th>\n",
              "      <th>WeekendRise</th>\n",
              "      <th>WeekendSleep</th>\n",
              "      <th>AverageSleep</th>\n",
              "      <th>AllNighter</th>\n",
              "    </tr>\n",
              "  </thead>\n",
              "  <tbody>\n",
              "    <tr>\n",
              "      <th>0</th>\n",
              "      <td>0</td>\n",
              "      <td>4</td>\n",
              "      <td>Neither</td>\n",
              "      <td>0</td>\n",
              "      <td>0</td>\n",
              "      <td>3.60</td>\n",
              "      <td>0</td>\n",
              "      <td>-0.26</td>\n",
              "      <td>4</td>\n",
              "      <td>4</td>\n",
              "      <td>...</td>\n",
              "      <td>Moderate</td>\n",
              "      <td>10</td>\n",
              "      <td>25.75</td>\n",
              "      <td>8.70</td>\n",
              "      <td>7.70</td>\n",
              "      <td>25.75</td>\n",
              "      <td>9.50</td>\n",
              "      <td>5.88</td>\n",
              "      <td>7.18</td>\n",
              "      <td>0</td>\n",
              "    </tr>\n",
              "    <tr>\n",
              "      <th>1</th>\n",
              "      <td>0</td>\n",
              "      <td>4</td>\n",
              "      <td>Neither</td>\n",
              "      <td>2</td>\n",
              "      <td>1</td>\n",
              "      <td>3.24</td>\n",
              "      <td>0</td>\n",
              "      <td>1.39</td>\n",
              "      <td>6</td>\n",
              "      <td>1</td>\n",
              "      <td>...</td>\n",
              "      <td>Moderate</td>\n",
              "      <td>6</td>\n",
              "      <td>25.70</td>\n",
              "      <td>8.20</td>\n",
              "      <td>6.80</td>\n",
              "      <td>26.00</td>\n",
              "      <td>10.00</td>\n",
              "      <td>7.25</td>\n",
              "      <td>6.93</td>\n",
              "      <td>0</td>\n",
              "    </tr>\n",
              "    <tr>\n",
              "      <th>2</th>\n",
              "      <td>0</td>\n",
              "      <td>4</td>\n",
              "      <td>Owl</td>\n",
              "      <td>0</td>\n",
              "      <td>0</td>\n",
              "      <td>2.97</td>\n",
              "      <td>12</td>\n",
              "      <td>0.38</td>\n",
              "      <td>18</td>\n",
              "      <td>18</td>\n",
              "      <td>...</td>\n",
              "      <td>Light</td>\n",
              "      <td>3</td>\n",
              "      <td>27.44</td>\n",
              "      <td>6.55</td>\n",
              "      <td>3.00</td>\n",
              "      <td>28.00</td>\n",
              "      <td>12.59</td>\n",
              "      <td>10.09</td>\n",
              "      <td>5.02</td>\n",
              "      <td>0</td>\n",
              "    </tr>\n",
              "    <tr>\n",
              "      <th>3</th>\n",
              "      <td>0</td>\n",
              "      <td>1</td>\n",
              "      <td>Lark</td>\n",
              "      <td>5</td>\n",
              "      <td>1</td>\n",
              "      <td>3.76</td>\n",
              "      <td>0</td>\n",
              "      <td>1.39</td>\n",
              "      <td>9</td>\n",
              "      <td>1</td>\n",
              "      <td>...</td>\n",
              "      <td>Light</td>\n",
              "      <td>2</td>\n",
              "      <td>23.50</td>\n",
              "      <td>7.17</td>\n",
              "      <td>6.77</td>\n",
              "      <td>27.00</td>\n",
              "      <td>8.00</td>\n",
              "      <td>7.25</td>\n",
              "      <td>6.90</td>\n",
              "      <td>0</td>\n",
              "    </tr>\n",
              "    <tr>\n",
              "      <th>4</th>\n",
              "      <td>0</td>\n",
              "      <td>4</td>\n",
              "      <td>Owl</td>\n",
              "      <td>0</td>\n",
              "      <td>0</td>\n",
              "      <td>3.20</td>\n",
              "      <td>4</td>\n",
              "      <td>1.22</td>\n",
              "      <td>9</td>\n",
              "      <td>7</td>\n",
              "      <td>...</td>\n",
              "      <td>Moderate</td>\n",
              "      <td>4</td>\n",
              "      <td>25.90</td>\n",
              "      <td>8.67</td>\n",
              "      <td>6.09</td>\n",
              "      <td>23.75</td>\n",
              "      <td>9.50</td>\n",
              "      <td>7.00</td>\n",
              "      <td>6.35</td>\n",
              "      <td>0</td>\n",
              "    </tr>\n",
              "  </tbody>\n",
              "</table>\n",
              "<p>5 rows × 27 columns</p>\n",
              "</div>\n",
              "    <div class=\"colab-df-buttons\">\n",
              "\n",
              "  <div class=\"colab-df-container\">\n",
              "    <button class=\"colab-df-convert\" onclick=\"convertToInteractive('df-a7511ed4-bd08-4bc9-a4a4-f6a4a434ce59')\"\n",
              "            title=\"Convert this dataframe to an interactive table.\"\n",
              "            style=\"display:none;\">\n",
              "\n",
              "  <svg xmlns=\"http://www.w3.org/2000/svg\" height=\"24px\" viewBox=\"0 -960 960 960\">\n",
              "    <path d=\"M120-120v-720h720v720H120Zm60-500h600v-160H180v160Zm220 220h160v-160H400v160Zm0 220h160v-160H400v160ZM180-400h160v-160H180v160Zm440 0h160v-160H620v160ZM180-180h160v-160H180v160Zm440 0h160v-160H620v160Z\"/>\n",
              "  </svg>\n",
              "    </button>\n",
              "\n",
              "  <style>\n",
              "    .colab-df-container {\n",
              "      display:flex;\n",
              "      gap: 12px;\n",
              "    }\n",
              "\n",
              "    .colab-df-convert {\n",
              "      background-color: #E8F0FE;\n",
              "      border: none;\n",
              "      border-radius: 50%;\n",
              "      cursor: pointer;\n",
              "      display: none;\n",
              "      fill: #1967D2;\n",
              "      height: 32px;\n",
              "      padding: 0 0 0 0;\n",
              "      width: 32px;\n",
              "    }\n",
              "\n",
              "    .colab-df-convert:hover {\n",
              "      background-color: #E2EBFA;\n",
              "      box-shadow: 0px 1px 2px rgba(60, 64, 67, 0.3), 0px 1px 3px 1px rgba(60, 64, 67, 0.15);\n",
              "      fill: #174EA6;\n",
              "    }\n",
              "\n",
              "    .colab-df-buttons div {\n",
              "      margin-bottom: 4px;\n",
              "    }\n",
              "\n",
              "    [theme=dark] .colab-df-convert {\n",
              "      background-color: #3B4455;\n",
              "      fill: #D2E3FC;\n",
              "    }\n",
              "\n",
              "    [theme=dark] .colab-df-convert:hover {\n",
              "      background-color: #434B5C;\n",
              "      box-shadow: 0px 1px 3px 1px rgba(0, 0, 0, 0.15);\n",
              "      filter: drop-shadow(0px 1px 2px rgba(0, 0, 0, 0.3));\n",
              "      fill: #FFFFFF;\n",
              "    }\n",
              "  </style>\n",
              "\n",
              "    <script>\n",
              "      const buttonEl =\n",
              "        document.querySelector('#df-a7511ed4-bd08-4bc9-a4a4-f6a4a434ce59 button.colab-df-convert');\n",
              "      buttonEl.style.display =\n",
              "        google.colab.kernel.accessAllowed ? 'block' : 'none';\n",
              "\n",
              "      async function convertToInteractive(key) {\n",
              "        const element = document.querySelector('#df-a7511ed4-bd08-4bc9-a4a4-f6a4a434ce59');\n",
              "        const dataTable =\n",
              "          await google.colab.kernel.invokeFunction('convertToInteractive',\n",
              "                                                    [key], {});\n",
              "        if (!dataTable) return;\n",
              "\n",
              "        const docLinkHtml = 'Like what you see? Visit the ' +\n",
              "          '<a target=\"_blank\" href=https://colab.research.google.com/notebooks/data_table.ipynb>data table notebook</a>'\n",
              "          + ' to learn more about interactive tables.';\n",
              "        element.innerHTML = '';\n",
              "        dataTable['output_type'] = 'display_data';\n",
              "        await google.colab.output.renderOutput(dataTable, element);\n",
              "        const docLink = document.createElement('div');\n",
              "        docLink.innerHTML = docLinkHtml;\n",
              "        element.appendChild(docLink);\n",
              "      }\n",
              "    </script>\n",
              "  </div>\n",
              "\n",
              "\n",
              "<div id=\"df-046a6d58-8bf8-47a0-8830-2a047420266d\">\n",
              "  <button class=\"colab-df-quickchart\" onclick=\"quickchart('df-046a6d58-8bf8-47a0-8830-2a047420266d')\"\n",
              "            title=\"Suggest charts\"\n",
              "            style=\"display:none;\">\n",
              "\n",
              "<svg xmlns=\"http://www.w3.org/2000/svg\" height=\"24px\"viewBox=\"0 0 24 24\"\n",
              "     width=\"24px\">\n",
              "    <g>\n",
              "        <path d=\"M19 3H5c-1.1 0-2 .9-2 2v14c0 1.1.9 2 2 2h14c1.1 0 2-.9 2-2V5c0-1.1-.9-2-2-2zM9 17H7v-7h2v7zm4 0h-2V7h2v10zm4 0h-2v-4h2v4z\"/>\n",
              "    </g>\n",
              "</svg>\n",
              "  </button>\n",
              "\n",
              "<style>\n",
              "  .colab-df-quickchart {\n",
              "      --bg-color: #E8F0FE;\n",
              "      --fill-color: #1967D2;\n",
              "      --hover-bg-color: #E2EBFA;\n",
              "      --hover-fill-color: #174EA6;\n",
              "      --disabled-fill-color: #AAA;\n",
              "      --disabled-bg-color: #DDD;\n",
              "  }\n",
              "\n",
              "  [theme=dark] .colab-df-quickchart {\n",
              "      --bg-color: #3B4455;\n",
              "      --fill-color: #D2E3FC;\n",
              "      --hover-bg-color: #434B5C;\n",
              "      --hover-fill-color: #FFFFFF;\n",
              "      --disabled-bg-color: #3B4455;\n",
              "      --disabled-fill-color: #666;\n",
              "  }\n",
              "\n",
              "  .colab-df-quickchart {\n",
              "    background-color: var(--bg-color);\n",
              "    border: none;\n",
              "    border-radius: 50%;\n",
              "    cursor: pointer;\n",
              "    display: none;\n",
              "    fill: var(--fill-color);\n",
              "    height: 32px;\n",
              "    padding: 0;\n",
              "    width: 32px;\n",
              "  }\n",
              "\n",
              "  .colab-df-quickchart:hover {\n",
              "    background-color: var(--hover-bg-color);\n",
              "    box-shadow: 0 1px 2px rgba(60, 64, 67, 0.3), 0 1px 3px 1px rgba(60, 64, 67, 0.15);\n",
              "    fill: var(--button-hover-fill-color);\n",
              "  }\n",
              "\n",
              "  .colab-df-quickchart-complete:disabled,\n",
              "  .colab-df-quickchart-complete:disabled:hover {\n",
              "    background-color: var(--disabled-bg-color);\n",
              "    fill: var(--disabled-fill-color);\n",
              "    box-shadow: none;\n",
              "  }\n",
              "\n",
              "  .colab-df-spinner {\n",
              "    border: 2px solid var(--fill-color);\n",
              "    border-color: transparent;\n",
              "    border-bottom-color: var(--fill-color);\n",
              "    animation:\n",
              "      spin 1s steps(1) infinite;\n",
              "  }\n",
              "\n",
              "  @keyframes spin {\n",
              "    0% {\n",
              "      border-color: transparent;\n",
              "      border-bottom-color: var(--fill-color);\n",
              "      border-left-color: var(--fill-color);\n",
              "    }\n",
              "    20% {\n",
              "      border-color: transparent;\n",
              "      border-left-color: var(--fill-color);\n",
              "      border-top-color: var(--fill-color);\n",
              "    }\n",
              "    30% {\n",
              "      border-color: transparent;\n",
              "      border-left-color: var(--fill-color);\n",
              "      border-top-color: var(--fill-color);\n",
              "      border-right-color: var(--fill-color);\n",
              "    }\n",
              "    40% {\n",
              "      border-color: transparent;\n",
              "      border-right-color: var(--fill-color);\n",
              "      border-top-color: var(--fill-color);\n",
              "    }\n",
              "    60% {\n",
              "      border-color: transparent;\n",
              "      border-right-color: var(--fill-color);\n",
              "    }\n",
              "    80% {\n",
              "      border-color: transparent;\n",
              "      border-right-color: var(--fill-color);\n",
              "      border-bottom-color: var(--fill-color);\n",
              "    }\n",
              "    90% {\n",
              "      border-color: transparent;\n",
              "      border-bottom-color: var(--fill-color);\n",
              "    }\n",
              "  }\n",
              "</style>\n",
              "\n",
              "  <script>\n",
              "    async function quickchart(key) {\n",
              "      const quickchartButtonEl =\n",
              "        document.querySelector('#' + key + ' button');\n",
              "      quickchartButtonEl.disabled = true;  // To prevent multiple clicks.\n",
              "      quickchartButtonEl.classList.add('colab-df-spinner');\n",
              "      try {\n",
              "        const charts = await google.colab.kernel.invokeFunction(\n",
              "            'suggestCharts', [key], {});\n",
              "      } catch (error) {\n",
              "        console.error('Error during call to suggestCharts:', error);\n",
              "      }\n",
              "      quickchartButtonEl.classList.remove('colab-df-spinner');\n",
              "      quickchartButtonEl.classList.add('colab-df-quickchart-complete');\n",
              "    }\n",
              "    (() => {\n",
              "      let quickchartButtonEl =\n",
              "        document.querySelector('#df-046a6d58-8bf8-47a0-8830-2a047420266d button');\n",
              "      quickchartButtonEl.style.display =\n",
              "        google.colab.kernel.accessAllowed ? 'block' : 'none';\n",
              "    })();\n",
              "  </script>\n",
              "</div>\n",
              "\n",
              "    </div>\n",
              "  </div>\n"
            ],
            "application/vnd.google.colaboratory.intrinsic+json": {
              "type": "dataframe"
            }
          },
          "metadata": {},
          "execution_count": 93
        }
      ],
      "source": [
        "# @title\n",
        "default_dataset.head ()"
      ]
    },
    {
      "cell_type": "markdown",
      "metadata": {
        "id": "U5c2GfqK_REe"
      },
      "source": [
        "We can also look at a list of columns."
      ]
    },
    {
      "cell_type": "code",
      "execution_count": 94,
      "metadata": {
        "colab": {
          "base_uri": "https://localhost:8080/"
        },
        "id": "M9Q7rRlY0lU_",
        "outputId": "a4fb21ff-c744-4868-ef4f-84648a9e3f18"
      },
      "outputs": [
        {
          "output_type": "stream",
          "name": "stdout",
          "text": [
            "<class 'pandas.core.frame.DataFrame'>\n",
            "RangeIndex: 253 entries, 0 to 252\n",
            "Data columns (total 27 columns):\n",
            " #   Column            Non-Null Count  Dtype  \n",
            "---  ------            --------------  -----  \n",
            " 0   Gender            253 non-null    int64  \n",
            " 1   ClassYear         253 non-null    int64  \n",
            " 2   LarkOwl           253 non-null    object \n",
            " 3   NumEarlyClass     253 non-null    int64  \n",
            " 4   EarlyClass        253 non-null    int64  \n",
            " 5   GPA               253 non-null    float64\n",
            " 6   ClassesMissed     253 non-null    int64  \n",
            " 7   CognitionZscore   253 non-null    float64\n",
            " 8   PoorSleepQuality  253 non-null    int64  \n",
            " 9   DepressionScore   253 non-null    int64  \n",
            " 10  AnxietyScore      253 non-null    int64  \n",
            " 11  StressScore       253 non-null    int64  \n",
            " 12  DepressionStatus  253 non-null    object \n",
            " 13  AnxietyStatus     253 non-null    object \n",
            " 14  Stress            253 non-null    object \n",
            " 15  DASScore          253 non-null    int64  \n",
            " 16  Happiness         253 non-null    int64  \n",
            " 17  AlcoholUse        253 non-null    object \n",
            " 18  Drinks            253 non-null    int64  \n",
            " 19  WeekdayBed        253 non-null    float64\n",
            " 20  WeekdayRise       253 non-null    float64\n",
            " 21  WeekdaySleep      253 non-null    float64\n",
            " 22  WeekendBed        253 non-null    float64\n",
            " 23  WeekendRise       253 non-null    float64\n",
            " 24  WeekendSleep      253 non-null    float64\n",
            " 25  AverageSleep      253 non-null    float64\n",
            " 26  AllNighter        253 non-null    int64  \n",
            "dtypes: float64(9), int64(13), object(5)\n",
            "memory usage: 53.5+ KB\n"
          ]
        }
      ],
      "source": [
        "# @title\n",
        "default_dataset.info ()"
      ]
    },
    {
      "cell_type": "markdown",
      "metadata": {
        "id": "yQthsPxQwg74"
      },
      "source": [
        "This shows that none of the columns are missing any data, which makes analysis easier. With the data loaded into memory, we are now ready to begin analysis."
      ]
    },
    {
      "cell_type": "markdown",
      "metadata": {
        "id": "CuQOx3KiCiFC"
      },
      "source": [
        "# Analysis"
      ]
    },
    {
      "cell_type": "markdown",
      "source": [
        "The following function will be used throughout the notebook to calculate two-sample t-tests and confidence intervals."
      ],
      "metadata": {
        "id": "hzBH7aPDAMrc"
      }
    },
    {
      "cell_type": "code",
      "source": [
        "def calcTTestStats (group1, group2):\n",
        "  test = sm.ttest_ind(group1, group2, usevar='unequal')\n",
        "  ci = sm.CompareMeans(sm.DescrStatsW(group1), sm.DescrStatsW(group2)).tconfint_diff()\n",
        "  ci_formatted = (f\"{ci[0]:.5f}\", f\"{ci[1]:.5f}\")\n",
        "\n",
        "  print(\"T-statistic:\", test[0])\n",
        "  print(\"P-value:\", test[1])\n",
        "  print(f\"95% Confidence Interval for the difference in means: {ci_formatted}\")\n",
        "  print ()\n",
        "\n",
        "  alpha = 0.05\n",
        "  p_value = test[1]\n",
        "  if p_value < alpha:\n",
        "      print(\"Null hypothesis rejected. There is a significant difference in means.\")\n",
        "  else:\n",
        "      print(\"Null hypothesis NOT rejected. There is no significant difference in means.\")"
      ],
      "metadata": {
        "id": "e45iHw2WADZo"
      },
      "execution_count": 95,
      "outputs": []
    },
    {
      "cell_type": "markdown",
      "metadata": {
        "id": "5GJx7U2dCj9F"
      },
      "source": [
        "## Is there a significant difference in the average GPA between male and female college students?"
      ]
    },
    {
      "cell_type": "markdown",
      "metadata": {
        "id": "qMwF28XADqDl"
      },
      "source": [
        "We begin by separating the GPA column based on the gender of each person."
      ]
    },
    {
      "cell_type": "code",
      "execution_count": 96,
      "metadata": {
        "id": "cQ7LmZ__VVpH"
      },
      "outputs": [],
      "source": [
        "# @title\n",
        "male_gpa = default_dataset[default_dataset['Gender'] == 1]['GPA']\n",
        "female_gpa = default_dataset[default_dataset['Gender'] == 0]['GPA']"
      ]
    },
    {
      "cell_type": "markdown",
      "metadata": {
        "id": "DkaSG9Kcz1We"
      },
      "source": [
        "Next, we observe the descriptions of each subset of data. We can see that the difference between their overall means is about 0.20, with female students having the higher overall mean."
      ]
    },
    {
      "cell_type": "code",
      "execution_count": 97,
      "metadata": {
        "colab": {
          "base_uri": "https://localhost:8080/"
        },
        "id": "xNHmFhHFVWEB",
        "outputId": "138d4330-90a2-4ece-b5b8-990a184588ed"
      },
      "outputs": [
        {
          "output_type": "stream",
          "name": "stdout",
          "text": [
            "=====Male GPA=====\n",
            "count    102.000000\n",
            "mean       3.123725\n",
            "std        0.417643\n",
            "min        2.000000\n",
            "25%        2.800000\n",
            "50%        3.150000\n",
            "75%        3.400000\n",
            "max        4.000000\n",
            "Name: GPA, dtype: float64\n",
            "\n",
            "=====Female GPA=====\n",
            "count    151.000000\n",
            "mean       3.324901\n",
            "std        0.375123\n",
            "min        2.000000\n",
            "25%        3.105000\n",
            "50%        3.300000\n",
            "75%        3.600000\n",
            "max        4.000000\n",
            "Name: GPA, dtype: float64\n"
          ]
        }
      ],
      "source": [
        "# @title\n",
        "print (\"=====Male GPA=====\")\n",
        "print (male_gpa.describe ())\n",
        "print ()\n",
        "\n",
        "print (\"=====Female GPA=====\")\n",
        "print (female_gpa.describe ())"
      ]
    },
    {
      "cell_type": "markdown",
      "metadata": {
        "id": "dHDDJIUJ0QCL"
      },
      "source": [
        "The following figure shows the boxplots for each subset of data. They both range from 2.0 to 4.0, but the male boxplot shows that most of the male data lies between 2.4 and 4.0."
      ]
    },
    {
      "cell_type": "code",
      "execution_count": 98,
      "metadata": {
        "colab": {
          "base_uri": "https://localhost:8080/",
          "height": 410
        },
        "id": "AnqxUIfRWieH",
        "outputId": "d56d7853-fbad-4b11-d0ee-eb1ee1394e21"
      },
      "outputs": [
        {
          "output_type": "display_data",
          "data": {
            "text/plain": [
              "<Figure size 600x400 with 1 Axes>"
            ],
            "image/png": "[encoded data removed]"
          },
          "metadata": {}
        }
      ],
      "source": [
        "# @title\n",
        "plt.figure(figsize=(6, 4))\n",
        "plt.boxplot(\n",
        "    [male_gpa, female_gpa],\n",
        "    labels=['Male', 'Female'],\n",
        "    patch_artist=True,\n",
        "    boxprops=dict(facecolor='lightblue', color='blue'),\n",
        ")\n",
        "plt.title('Distribution of GPA by Gender')\n",
        "plt.xlabel('Gender')\n",
        "plt.ylabel('GPA')\n",
        "plt.grid(axis='y', linestyle='--', alpha=0.7)\n",
        "plt.locator_params(axis='y', nbins=30)\n",
        "plt.show()"
      ]
    },
    {
      "cell_type": "markdown",
      "metadata": {
        "id": "aRNARUxP0iNu"
      },
      "source": [
        "Now we perform a 2-sample t-test to determine whether there is a significant difference in the means. The below results show that the null hypothesis was rejected, suggesting there is in fact a significant difference in GPA."
      ]
    },
    {
      "cell_type": "code",
      "source": [
        "calcTTestStats (male_gpa, female_gpa)"
      ],
      "metadata": {
        "colab": {
          "base_uri": "https://localhost:8080/"
        },
        "id": "KcAUO8T4BHrw",
        "outputId": "6af0207b-fec2-4d55-da7b-02056a412632"
      },
      "execution_count": 99,
      "outputs": [
        {
          "output_type": "stream",
          "name": "stdout",
          "text": [
            "T-statistic: -3.913916462547876\n",
            "P-value: 0.0001242980008452469\n",
            "95% Confidence Interval for the difference in means: ('-0.30032', '-0.10203')\n",
            "\n",
            "Null hypothesis rejected. There is a significant difference in means.\n"
          ]
        }
      ]
    },
    {
      "cell_type": "markdown",
      "metadata": {
        "id": "8dZ9T5oJ04a0"
      },
      "source": [
        "These results suggest that there is a significant difference in average GPA between male and female students. This difference might be influenced by various factors, such as their typical choice in majors, support networks, gendered peer influences, or grading bias. However, further investigation is required to determine causation."
      ]
    },
    {
      "cell_type": "markdown",
      "metadata": {
        "id": "NujMfF9FDfKX"
      },
      "source": [
        "## Is there a significant difference in the average number of early classes between the first two class years and other class years?"
      ]
    },
    {
      "cell_type": "markdown",
      "metadata": {
        "id": "_9ufzvynDqh3"
      },
      "source": [
        "We begin by separating the column containing the number of early classes. We split it into the lower class students (years 1-2) and the upper class students (years 3-4)."
      ]
    },
    {
      "cell_type": "code",
      "execution_count": 100,
      "metadata": {
        "id": "QooliywIZ49q"
      },
      "outputs": [],
      "source": [
        "# @title\n",
        "lower_class = default_dataset[default_dataset['ClassYear'].isin([1, 2])]['NumEarlyClass']\n",
        "upper_class = default_dataset[default_dataset['ClassYear'].isin([3, 4])]['NumEarlyClass']"
      ]
    },
    {
      "cell_type": "markdown",
      "metadata": {
        "id": "6a7fuQK29ZxI"
      },
      "source": [
        "Next, we observe the descriptions of each subset of data. We can see that the difference between their overall means is about 0.76, with lower classmen having the higher average."
      ]
    },
    {
      "cell_type": "code",
      "execution_count": 101,
      "metadata": {
        "colab": {
          "base_uri": "https://localhost:8080/"
        },
        "id": "Awr2TDyIa3by",
        "outputId": "ab2b0b65-8afd-42aa-fb45-658650fc6cff"
      },
      "outputs": [
        {
          "output_type": "stream",
          "name": "stdout",
          "text": [
            "=====Lower Classmen Early Classes=====\n",
            "count    142.000000\n",
            "mean       2.070423\n",
            "std        1.657341\n",
            "min        0.000000\n",
            "25%        0.000000\n",
            "50%        2.000000\n",
            "75%        3.000000\n",
            "max        5.000000\n",
            "Name: NumEarlyClass, dtype: float64\n",
            "\n",
            "=====Upper Classmen Early Classes=====\n",
            "count    111.000000\n",
            "mean       1.306306\n",
            "std        1.248947\n",
            "min        0.000000\n",
            "25%        0.000000\n",
            "50%        2.000000\n",
            "75%        2.000000\n",
            "max        5.000000\n",
            "Name: NumEarlyClass, dtype: float64\n"
          ]
        }
      ],
      "source": [
        "# @title\n",
        "print (\"=====Lower Classmen Early Classes=====\")\n",
        "print (lower_class.describe ())\n",
        "print ()\n",
        "\n",
        "print (\"=====Upper Classmen Early Classes=====\")\n",
        "print (upper_class.describe ())"
      ]
    },
    {
      "cell_type": "markdown",
      "metadata": {
        "id": "7DxKRC8GGgf_"
      },
      "source": [
        "The following figure shows the boxplots for each subset of data. They both have similar ranges, although the second and third quartiles for the upper classmen are equal. It makes up for this by having a much longer upper whisker."
      ]
    },
    {
      "cell_type": "code",
      "execution_count": 102,
      "metadata": {
        "colab": {
          "base_uri": "https://localhost:8080/",
          "height": 410
        },
        "id": "2Gcqs-PBbt4i",
        "outputId": "d68e4ee4-d2fa-4e5a-ff68-863e620e75a1"
      },
      "outputs": [
        {
          "output_type": "display_data",
          "data": {
            "text/plain": [
              "<Figure size 600x400 with 1 Axes>"
            ],
            "image/png": "[encoded data removed]"
          },
          "metadata": {}
        }
      ],
      "source": [
        "# @title\n",
        "plt.figure(figsize=(6, 4))\n",
        "plt.boxplot(\n",
        "    [lower_class, upper_class],\n",
        "    labels=['Lower Classman', 'Upper Classman'],\n",
        "    patch_artist=True,\n",
        "    boxprops=dict(facecolor='lightblue', color='blue'),\n",
        ")\n",
        "plt.title('Number of Early Classes by Class Year Group')\n",
        "plt.xlabel('Class Year Group')\n",
        "plt.ylabel('Number of Early Classes')\n",
        "plt.grid(axis='y', linestyle='--', alpha=0.7)\n",
        "plt.show()"
      ]
    },
    {
      "cell_type": "markdown",
      "metadata": {
        "id": "wIhIjW4aXb0Z"
      },
      "source": [
        "Now we perform a 2-sample t-test to determine whether there is a significant difference in the means. The below results show that the null hypothesis was rejected, suggesting there is in fact a significant difference in the number of early classes taken."
      ]
    },
    {
      "cell_type": "code",
      "source": [
        "calcTTestStats (lower_class, upper_class)"
      ],
      "metadata": {
        "colab": {
          "base_uri": "https://localhost:8080/"
        },
        "id": "3b6UKA02BLfO",
        "outputId": "e65358bd-22b8-4812-8567-41493328a11f"
      },
      "execution_count": 103,
      "outputs": [
        {
          "output_type": "stream",
          "name": "stdout",
          "text": [
            "T-statistic: 4.181284304075919\n",
            "P-value: 4.009355722080891e-05\n",
            "95% Confidence Interval for the difference in means: ('0.39179', '1.13644')\n",
            "\n",
            "Null hypothesis rejected. There is a significant difference in means.\n"
          ]
        }
      ]
    },
    {
      "cell_type": "markdown",
      "metadata": {
        "id": "FUcubnYZX1WY"
      },
      "source": [
        "These results suggest that students in the latter half of college take fewer early classes. Although the data doesn't indicate this for sure, one possible explanation is that students who are farther in their major may have more options for courses they can take. They can choose to postpone classes until they are available at a more convenient time, unlike new students who may be shoehorned into taking specific classes to fulfill prerequisites. Another possible explanation  is that the universit(ies) the data was collected from may schedule lower level classes earlier in the day. Additional data would help confirm these explanations."
      ]
    },
    {
      "cell_type": "markdown",
      "metadata": {
        "id": "13IUxtHvDf_r"
      },
      "source": [
        "## Do students who identify as \"larks\" have significantly better cognitive skills (cognition z-score) compared to \"owls\"?"
      ]
    },
    {
      "cell_type": "markdown",
      "metadata": {
        "id": "_17OV1kJDq2H"
      },
      "source": [
        "We begin by separating the cognition z-score column based on whether the student is a lark (early riser) or owl (late nighter). Students who aren't either will not be considered."
      ]
    },
    {
      "cell_type": "code",
      "execution_count": 104,
      "metadata": {
        "id": "nQUj2WlpdA0d"
      },
      "outputs": [],
      "source": [
        "# @title\n",
        "larks = default_dataset[default_dataset['LarkOwl'] == 'Lark']['CognitionZscore']\n",
        "owls = default_dataset[default_dataset['LarkOwl'] == 'Owl']['CognitionZscore']"
      ]
    },
    {
      "cell_type": "markdown",
      "metadata": {
        "id": "a9x0qw0BauYp"
      },
      "source": [
        "Next, we observe the descriptions of each subset of data. We can see that the difference between their overall means is about 0.13, with larks having the higher average."
      ]
    },
    {
      "cell_type": "code",
      "execution_count": 105,
      "metadata": {
        "colab": {
          "base_uri": "https://localhost:8080/"
        },
        "id": "A2GBjP2ydrzW",
        "outputId": "3c322828-bbde-46d6-cbdc-5ff46b8c7307"
      },
      "outputs": [
        {
          "output_type": "stream",
          "name": "stdout",
          "text": [
            "=====Larks Cognition Z-score=====\n",
            "count    41.000000\n",
            "mean      0.090244\n",
            "std       0.829568\n",
            "min      -1.620000\n",
            "25%      -0.420000\n",
            "50%       0.120000\n",
            "75%       0.760000\n",
            "max       1.890000\n",
            "Name: CognitionZscore, dtype: float64\n",
            "\n",
            "=====Owls Cognition Z-score=====\n",
            "count    49.000000\n",
            "mean     -0.038367\n",
            "std       0.652742\n",
            "min      -1.450000\n",
            "25%      -0.510000\n",
            "50%      -0.010000\n",
            "75%       0.480000\n",
            "max       1.220000\n",
            "Name: CognitionZscore, dtype: float64\n"
          ]
        }
      ],
      "source": [
        "# @title\n",
        "print (\"=====Larks Cognition Z-score=====\")\n",
        "print (larks.describe ())\n",
        "print ()\n",
        "\n",
        "print (\"=====Owls Cognition Z-score=====\")\n",
        "print (owls.describe ())"
      ]
    },
    {
      "cell_type": "markdown",
      "metadata": {
        "id": "DRk3KUh6bAVX"
      },
      "source": [
        "The following figure shows the boxplots for each subset of data. The owls have a slightly smaller IQR and a smaller range overall."
      ]
    },
    {
      "cell_type": "code",
      "execution_count": 106,
      "metadata": {
        "colab": {
          "base_uri": "https://localhost:8080/",
          "height": 391
        },
        "id": "_lamYxZvei1Y",
        "outputId": "993e3517-6a4e-4a37-bf2d-2d0adfd4c746"
      },
      "outputs": [
        {
          "output_type": "display_data",
          "data": {
            "text/plain": [
              "<Figure size 600x400 with 1 Axes>"
            ],
            "image/png": "[encoded data removed]"
          },
          "metadata": {}
        }
      ],
      "source": [
        "# @title\n",
        "plt.figure(figsize=(6, 4))\n",
        "plt.boxplot(\n",
        "    [larks, owls],\n",
        "    labels=['Larks', 'Owls'],\n",
        "    patch_artist=True,\n",
        "    boxprops=dict(facecolor='lightblue', color='blue'),\n",
        ")\n",
        "plt.title('Average Cognition Z-scores for Larks/Owls')\n",
        "plt.ylabel('Cognition Z-score')\n",
        "plt.grid(axis='y', linestyle='--', alpha=0.7)\n",
        "plt.show()"
      ]
    },
    {
      "cell_type": "markdown",
      "metadata": {
        "id": "27ZmKPbqbhvU"
      },
      "source": [
        "Now we perform a 2-sample t-test to determine whether there is a significant difference in the means. The below results show that the null hypothesis was **not** rejected, suggesting there is not a significant difference in the average z-score between owls and larks."
      ]
    },
    {
      "cell_type": "code",
      "source": [
        "calcTTestStats (larks, owls)"
      ],
      "metadata": {
        "colab": {
          "base_uri": "https://localhost:8080/"
        },
        "id": "zYRY6hU_BqWT",
        "outputId": "6f842a48-f5ab-4f46-840c-d29be12cc3e3"
      },
      "execution_count": 107,
      "outputs": [
        {
          "output_type": "stream",
          "name": "stdout",
          "text": [
            "T-statistic: 0.8057063240065147\n",
            "P-value: 0.4229482300999131\n",
            "95% Confidence Interval for the difference in means: ('-0.18197', '0.43919')\n",
            "\n",
            "Null hypothesis NOT rejected. There is no significant difference in means.\n"
          ]
        }
      ]
    },
    {
      "cell_type": "markdown",
      "metadata": {
        "id": "sCVrK5KxcPfs"
      },
      "source": [
        "While larks had a slightly higher mean cognition z-score, the results do not provide strong evidence of a significant difference. Future research might find better results by exploring factors such as sleep quality and duration."
      ]
    },
    {
      "cell_type": "markdown",
      "metadata": {
        "id": "umwYw8BvDgqk"
      },
      "source": [
        "## Is there a significant difference in the average number of classes missed in a semester between students who had at least one early class (EarlyClass=1) and those who didn't (EarlyClass=0)?"
      ]
    },
    {
      "cell_type": "markdown",
      "metadata": {
        "id": "jSlHSjDYDrVL"
      },
      "source": [
        "We begin by separating the classes missed column based on whether the student has any early classes."
      ]
    },
    {
      "cell_type": "code",
      "execution_count": 108,
      "metadata": {
        "id": "J-uS9_gMf8bU"
      },
      "outputs": [],
      "source": [
        "# @title\n",
        "early_class = default_dataset[default_dataset['EarlyClass'] == 1]['ClassesMissed']\n",
        "no_early_class = default_dataset[default_dataset['EarlyClass'] == 0]['ClassesMissed']"
      ]
    },
    {
      "cell_type": "markdown",
      "metadata": {
        "id": "d07a9b2CdAkB"
      },
      "source": [
        "Next, we observe the descriptions of each subset of data. We can see that the difference between their overall means is about 0.66. The students without any early classes have the highest mean of the pair."
      ]
    },
    {
      "cell_type": "code",
      "execution_count": 109,
      "metadata": {
        "colab": {
          "base_uri": "https://localhost:8080/"
        },
        "id": "rX-KxhAAgaRs",
        "outputId": "0c5eed5c-539d-4875-e100-7af67c9fc7eb"
      },
      "outputs": [
        {
          "output_type": "stream",
          "name": "stdout",
          "text": [
            "=====Early Class Students Classes Missed=====\n",
            "count    168.000000\n",
            "mean       1.988095\n",
            "std        3.101068\n",
            "min        0.000000\n",
            "25%        0.000000\n",
            "50%        1.000000\n",
            "75%        3.000000\n",
            "max       20.000000\n",
            "Name: ClassesMissed, dtype: float64\n",
            "\n",
            "=====Non Early Class Students Classes Missed=====\n",
            "count    85.000000\n",
            "mean      2.647059\n",
            "std       3.476814\n",
            "min       0.000000\n",
            "25%       0.000000\n",
            "50%       2.000000\n",
            "75%       4.000000\n",
            "max      20.000000\n",
            "Name: ClassesMissed, dtype: float64\n"
          ]
        }
      ],
      "source": [
        "# @title\n",
        "print (\"=====Early Class Students Classes Missed=====\")\n",
        "print (early_class.describe ())\n",
        "print ()\n",
        "\n",
        "print (\"=====Non Early Class Students Classes Missed=====\")\n",
        "print (no_early_class.describe ())"
      ]
    },
    {
      "cell_type": "markdown",
      "metadata": {
        "id": "JsPY2GE6dB26"
      },
      "source": [
        "The following figure shows the boxplots for each subset of data. Both plots have similar ranges if we include outliers. Without them, it is clear that the plot for students who take early classes is much more narrow and slightly skewed."
      ]
    },
    {
      "cell_type": "code",
      "execution_count": 110,
      "metadata": {
        "colab": {
          "base_uri": "https://localhost:8080/",
          "height": 391
        },
        "id": "m6KKW_uPhA0u",
        "outputId": "15b70efe-d1cd-45ff-c366-9cc103a894a3"
      },
      "outputs": [
        {
          "output_type": "display_data",
          "data": {
            "text/plain": [
              "<Figure size 600x400 with 1 Axes>"
            ],
            "image/png": "[encoded data removed]"
          },
          "metadata": {}
        }
      ],
      "source": [
        "# @title\n",
        "plt.figure(figsize=(6, 4))\n",
        "plt.boxplot(\n",
        "    [early_class, no_early_class],\n",
        "    labels=['Early Classes', 'No Early Classes'],\n",
        "    patch_artist=True,\n",
        "    boxprops=dict(facecolor='lightblue', color='blue'),\n",
        ")\n",
        "plt.title('Average Number of Missed Classes for Students With Early Classes')\n",
        "plt.ylabel('Cognition Z-score')\n",
        "plt.grid(axis='y', linestyle='--', alpha=0.7)\n",
        "plt.show()"
      ]
    },
    {
      "cell_type": "markdown",
      "metadata": {
        "id": "gdLCAH-0dCg2"
      },
      "source": [
        "Now we perform a 2-sample t-test to determine whether there is a significant difference in the means. The below results show that the null hypothesis was not rejected, suggesting there is not a significant difference in the average number of missed classes for students with/without early classes."
      ]
    },
    {
      "cell_type": "code",
      "source": [
        "calcTTestStats (early_class, no_early_class)"
      ],
      "metadata": {
        "colab": {
          "base_uri": "https://localhost:8080/"
        },
        "id": "wWl785aWBzq3",
        "outputId": "8956c95d-bc94-4215-df2c-a00f621216ee"
      },
      "execution_count": 111,
      "outputs": [
        {
          "output_type": "stream",
          "name": "stdout",
          "text": [
            "T-statistic: -1.4754941477436887\n",
            "P-value: 0.14213766814478054\n",
            "95% Confidence Interval for the difference in means: ('-1.50614', '0.18821')\n",
            "\n",
            "Null hypothesis NOT rejected. There is no significant difference in means.\n"
          ]
        }
      ]
    },
    {
      "cell_type": "markdown",
      "metadata": {
        "id": "3TVcfVzVdDNL"
      },
      "source": [
        "The results do not show a significant difference in the number of classes missed based on having early classes. Other potential factors, such as GPA, student sleep patterns, or overall course load, may be worth exploring instead."
      ]
    },
    {
      "cell_type": "markdown",
      "metadata": {
        "id": "eaGiwPNdDhHa"
      },
      "source": [
        "## Is there a significant difference in the average happiness level between students with at least moderate depression and normal depression status?"
      ]
    },
    {
      "cell_type": "markdown",
      "metadata": {
        "id": "VYR460I0Dua_"
      },
      "source": [
        "We begin by separating the happiness column based on whether the student has at least moderate depression status."
      ]
    },
    {
      "cell_type": "code",
      "execution_count": 112,
      "metadata": {
        "id": "IJPhIQAxkVie"
      },
      "outputs": [],
      "source": [
        "# @title\n",
        "no_depression = default_dataset[default_dataset['DepressionStatus'] == 'normal']['Happiness']\n",
        "yes_depression = default_dataset[default_dataset['DepressionStatus'].isin(['moderate', 'severe'])]['Happiness']"
      ]
    },
    {
      "cell_type": "markdown",
      "metadata": {
        "id": "v2ZV2_NOgQl7"
      },
      "source": [
        "Next, we observe the descriptions of each subset of data. We can see that the difference between their overall means is about 5.44. The students with normal depression status have the highest mean of the pair."
      ]
    },
    {
      "cell_type": "code",
      "execution_count": 113,
      "metadata": {
        "colab": {
          "base_uri": "https://localhost:8080/"
        },
        "id": "FJpOzPDlkc7u",
        "outputId": "4fa4a3c6-5d7d-4538-a67a-53943c4144c4"
      },
      "outputs": [
        {
          "output_type": "stream",
          "name": "stdout",
          "text": [
            "=====No Depression Happiness Levels=====\n",
            "count    209.000000\n",
            "mean      27.057416\n",
            "std        4.884882\n",
            "min        0.000000\n",
            "25%       25.000000\n",
            "50%       28.000000\n",
            "75%       30.000000\n",
            "max       35.000000\n",
            "Name: Happiness, dtype: float64\n",
            "\n",
            "=====With Depression Happiness Levels=====\n",
            "count    44.000000\n",
            "mean     21.613636\n",
            "std       6.004711\n",
            "min       5.000000\n",
            "25%      17.000000\n",
            "50%      24.000000\n",
            "75%      26.000000\n",
            "max      29.000000\n",
            "Name: Happiness, dtype: float64\n"
          ]
        }
      ],
      "source": [
        "# @title\n",
        "print (\"=====No Depression Happiness Levels=====\")\n",
        "print (no_depression.describe ())\n",
        "print ()\n",
        "\n",
        "print (\"=====With Depression Happiness Levels=====\")\n",
        "print (yes_depression.describe ())"
      ]
    },
    {
      "cell_type": "markdown",
      "metadata": {
        "id": "OApTXmKigRNk"
      },
      "source": [
        "The following figure shows the boxplots for each subset of data. The boxplot for students without depression has a shorter IQR but has several outliers below the plot, including an extreme outlier at 0. The boxplot for students with at least moderate depression has a greater skew and IQR. However, its maximum value is lower than the other plot."
      ]
    },
    {
      "cell_type": "code",
      "execution_count": 114,
      "metadata": {
        "colab": {
          "base_uri": "https://localhost:8080/",
          "height": 410
        },
        "id": "Zgq_Zf1wkxZM",
        "outputId": "ba5fb256-a442-41d5-86b6-196821c4683c"
      },
      "outputs": [
        {
          "output_type": "display_data",
          "data": {
            "text/plain": [
              "<Figure size 600x400 with 1 Axes>"
            ],
            "image/png": "[encoded data removed]"
          },
          "metadata": {}
        }
      ],
      "source": [
        "# @title\n",
        "plt.figure(figsize=(6, 4))\n",
        "plt.boxplot(\n",
        "    [no_depression, yes_depression],\n",
        "    labels=['Normal', 'Moderate+'],\n",
        "    patch_artist=True,\n",
        "    boxprops=dict(facecolor='lightblue', color='blue'),\n",
        ")\n",
        "plt.title('Average Happiness Levels for Depression')\n",
        "plt.xlabel('Depression Status')\n",
        "plt.ylabel('Happiness')\n",
        "plt.grid(axis='y', linestyle='--', alpha=0.7)\n",
        "plt.show()"
      ]
    },
    {
      "cell_type": "markdown",
      "metadata": {
        "id": "LD1S0uoUgRvb"
      },
      "source": [
        "Now we perform a 2-sample t-test to determine whether there is a significant difference in the means. The below results show that the null hypothesis was not rejected, suggesting there is a significant difference in the average happiness between students with normal/at least moderate depression status."
      ]
    },
    {
      "cell_type": "code",
      "source": [
        "calcTTestStats (no_depression, yes_depression)"
      ],
      "metadata": {
        "colab": {
          "base_uri": "https://localhost:8080/"
        },
        "id": "FLe31lbICq8n",
        "outputId": "37da6f4b-c15d-473e-f49b-b47e6fbc1902"
      },
      "execution_count": 115,
      "outputs": [
        {
          "output_type": "stream",
          "name": "stdout",
          "text": [
            "T-statistic: 5.633922859753451\n",
            "P-value: 6.056558828371944e-07\n",
            "95% Confidence Interval for the difference in means: ('3.77965', '7.10791')\n",
            "\n",
            "Null hypothesis rejected. There is a significant difference in means.\n"
          ]
        }
      ]
    },
    {
      "cell_type": "markdown",
      "metadata": {
        "id": "dHC0W6stgSF6"
      },
      "source": [
        "These findings suggest a strong association between depression and reduced happiness. This aligns with boxplot observations showing lower happiness among students with depression. Future research should attempt to find the major contributing factors to a student's depression status."
      ]
    },
    {
      "cell_type": "markdown",
      "metadata": {
        "id": "0EhoMwnCDhig"
      },
      "source": [
        "## Is there a significant difference in average sleep quality scores between students who reported having at least one all-nighter (AllNighter=1) and those who didn't (AllNighter=0)?"
      ]
    },
    {
      "cell_type": "markdown",
      "metadata": {
        "id": "TXBCFAmmDw7I"
      },
      "source": [
        "We begin by separating the poor sleep quality column based on whether the student has pulled an all-nighter."
      ]
    },
    {
      "cell_type": "code",
      "execution_count": 116,
      "metadata": {
        "id": "lQXRNtuQForu"
      },
      "outputs": [],
      "source": [
        "# @title\n",
        "all_nighter_group = default_dataset[default_dataset['AllNighter'] == 1]['PoorSleepQuality']\n",
        "no_all_nighter_group = default_dataset[default_dataset['AllNighter'] == 0]['PoorSleepQuality']"
      ]
    },
    {
      "cell_type": "markdown",
      "metadata": {
        "id": "8-tOIwxgkaif"
      },
      "source": [
        "Next, we observe the descriptions of each subset of data. We can see that the difference between their overall means is about 0.89, with students who've pulled all-nighters having a higher average (higher values indicate worse sleep quality)."
      ]
    },
    {
      "cell_type": "code",
      "execution_count": 117,
      "metadata": {
        "colab": {
          "base_uri": "https://localhost:8080/"
        },
        "id": "wwDBKMO6GQZ2",
        "outputId": "e78a3a70-f609-4923-94a6-1828ee9f854d"
      },
      "outputs": [
        {
          "output_type": "stream",
          "name": "stdout",
          "text": [
            "=====All-Nighter Sleep Quality=====\n",
            "count    34.000000\n",
            "mean      7.029412\n",
            "std       2.822907\n",
            "min       2.000000\n",
            "25%       5.000000\n",
            "50%       7.000000\n",
            "75%       9.000000\n",
            "max      12.000000\n",
            "Name: PoorSleepQuality, dtype: float64\n",
            "\n",
            "=====Non-All-Nighter Sleep Quality=====\n",
            "count    219.000000\n",
            "mean       6.136986\n",
            "std        2.922462\n",
            "min        1.000000\n",
            "25%        4.000000\n",
            "50%        6.000000\n",
            "75%        8.000000\n",
            "max       18.000000\n",
            "Name: PoorSleepQuality, dtype: float64\n"
          ]
        }
      ],
      "source": [
        "# @title\n",
        "print (\"=====All-Nighter Sleep Quality=====\")\n",
        "print (all_nighter_group.describe ())\n",
        "print ()\n",
        "\n",
        "print (\"=====Non-All-Nighter Sleep Quality=====\")\n",
        "print (no_all_nighter_group.describe ())"
      ]
    },
    {
      "cell_type": "markdown",
      "metadata": {
        "id": "alc2CqCCkbAb"
      },
      "source": [
        "The following figure shows the boxplots for each subset of data. Both have similar IQRs, but the non-all-nighters have a greater range and more outliers. That boxplot also has greater/smaller maximum/minimum values."
      ]
    },
    {
      "cell_type": "code",
      "execution_count": 118,
      "metadata": {
        "colab": {
          "base_uri": "https://localhost:8080/",
          "height": 391
        },
        "id": "Kl0CoJw4J3Py",
        "outputId": "7d54d27d-2c04-4e77-a714-398d5e5556ff"
      },
      "outputs": [
        {
          "output_type": "display_data",
          "data": {
            "text/plain": [
              "<Figure size 600x400 with 1 Axes>"
            ],
            "image/png": "[encoded data removed]"
          },
          "metadata": {}
        }
      ],
      "source": [
        "# @title\n",
        "plt.figure(figsize=(6, 4))\n",
        "plt.boxplot(\n",
        "    [all_nighter_group, no_all_nighter_group],\n",
        "    labels=['All Nighters', 'Non All Nighters'],\n",
        "    patch_artist=True,\n",
        "    boxprops=dict(facecolor='lightblue', color='blue'),\n",
        ")\n",
        "plt.title('Average Sleep Quality for Students Who Have Pulled All Nighters')\n",
        "plt.ylabel('Poor Sleep Quality')\n",
        "plt.grid(axis='y', linestyle='--', alpha=0.7)\n",
        "plt.show()"
      ]
    },
    {
      "cell_type": "markdown",
      "metadata": {
        "id": "I0VxZCAFkbyn"
      },
      "source": [
        "Now we perform a 2-sample t-test to determine whether there is a significant difference in the means. The below results show that the null hypothesis was not rejected, suggesting there is not a significant difference in the average sleep quality between students who have/haven't pulled all-nighters."
      ]
    },
    {
      "cell_type": "code",
      "source": [
        "calcTTestStats (all_nighter_group, no_all_nighter_group)"
      ],
      "metadata": {
        "colab": {
          "base_uri": "https://localhost:8080/"
        },
        "id": "e9SnFyVdDUh-",
        "outputId": "2422b27a-8278-436c-981b-bfff1932d8fb"
      },
      "execution_count": 119,
      "outputs": [
        {
          "output_type": "stream",
          "name": "stdout",
          "text": [
            "T-statistic: 1.7068369884139776\n",
            "P-value: 0.09478990893459473\n",
            "95% Confidence Interval for the difference in means: ('-0.16384', '1.94869')\n",
            "\n",
            "Null hypothesis NOT rejected. There is no significant difference in means.\n"
          ]
        }
      ]
    },
    {
      "cell_type": "markdown",
      "metadata": {
        "id": "c1OckDUdkegL"
      },
      "source": [
        "The results do not indicate a significant difference in sleep quality based on all-nighter status. However, it may be worth revisiting this question with more detailed data. The current all-nighter column is binary and only tracks whether the student had an all-nighter in the last semester. A more useful pattern may emerge if we analyze the data again with a quantitative value instead. Other factors, such as the students' depression, anxiety, and stress levels may be more relevant."
      ]
    },
    {
      "cell_type": "markdown",
      "metadata": {
        "id": "p-v_slkBDiPg"
      },
      "source": [
        "## Do students who abstain from alcohol use have significantly better stress scores than those who report heavy alcohol use?"
      ]
    },
    {
      "cell_type": "markdown",
      "metadata": {
        "id": "Hk5xtZIaDzuN"
      },
      "source": [
        "We begin by separating the stress score column based on whether the student is a heavy drinker or non-drinker. Students who aren't either will not be considered."
      ]
    },
    {
      "cell_type": "code",
      "execution_count": 120,
      "metadata": {
        "id": "4HgK_6T_Lhp5"
      },
      "outputs": [],
      "source": [
        "# @title\n",
        "abstain_group = default_dataset[default_dataset['AlcoholUse'] == 'Abstain']['StressScore']\n",
        "heavy_group = default_dataset[default_dataset['AlcoholUse'] == 'Heavy']['StressScore']"
      ]
    },
    {
      "cell_type": "markdown",
      "metadata": {
        "id": "jHcflxHDqKCe"
      },
      "source": [
        "Next, we observe the descriptions of each subset of data. We can see that the difference between their overall means is about 1.47, with heavy alcohol users having the higher average."
      ]
    },
    {
      "cell_type": "code",
      "execution_count": 121,
      "metadata": {
        "colab": {
          "base_uri": "https://localhost:8080/"
        },
        "id": "tXrpcYTyLvGD",
        "outputId": "0dfccaa5-4fc7-4a7a-cd15-6ff18a37a8e0"
      },
      "outputs": [
        {
          "output_type": "stream",
          "name": "stdout",
          "text": [
            "=====Abstained From Alcohol Stress Scores=====\n",
            "count    34.000000\n",
            "mean      8.970588\n",
            "std       7.581818\n",
            "min       0.000000\n",
            "25%       3.000000\n",
            "50%       7.000000\n",
            "75%      12.750000\n",
            "max      28.000000\n",
            "Name: StressScore, dtype: float64\n",
            "\n",
            "=====Heavy Use of Alcohol Stress Scores=====\n",
            "count    16.000000\n",
            "mean     10.437500\n",
            "std       7.797168\n",
            "min       0.000000\n",
            "25%       4.500000\n",
            "50%      10.000000\n",
            "75%      16.000000\n",
            "max      27.000000\n",
            "Name: StressScore, dtype: float64\n"
          ]
        }
      ],
      "source": [
        "# @title\n",
        "print (\"=====Abstained From Alcohol Stress Scores=====\")\n",
        "print (abstain_group.describe ())\n",
        "print ()\n",
        "\n",
        "print (\"=====Heavy Use of Alcohol Stress Scores=====\")\n",
        "print (heavy_group.describe ())"
      ]
    },
    {
      "cell_type": "markdown",
      "metadata": {
        "id": "wlE0Fh3YqKlX"
      },
      "source": [
        "The following figure shows the boxplots for each subset of data. The boxplot for heavy alcohol users has a higher IQR. It also has a higher range if you disregard the outlier from the other plot. Both plots have much longer upper whiskers than lower whiskers, indicating that the data for both groups is positively skewed."
      ]
    },
    {
      "cell_type": "code",
      "execution_count": 122,
      "metadata": {
        "colab": {
          "base_uri": "https://localhost:8080/",
          "height": 391
        },
        "id": "m_dRMV46Mv1R",
        "outputId": "830c7d85-ec69-483c-ab8d-1dc7689cb015"
      },
      "outputs": [
        {
          "output_type": "display_data",
          "data": {
            "text/plain": [
              "<Figure size 600x400 with 1 Axes>"
            ],
            "image/png": "[encoded data removed]"
          },
          "metadata": {}
        }
      ],
      "source": [
        "# @title\n",
        "plt.figure(figsize=(6, 4))\n",
        "plt.boxplot(\n",
        "    [abstain_group, heavy_group],\n",
        "    labels=['Abstained From Alcohol', 'Heavy Alcohol Use'],\n",
        "    patch_artist=True,\n",
        "    boxprops=dict(facecolor='lightblue', color='blue'),\n",
        ")\n",
        "plt.title('Average Stress Scores for None/Heavy Alcohol Usage')\n",
        "plt.ylabel('Stress Score')\n",
        "plt.grid(axis='y', linestyle='--', alpha=0.7)\n",
        "plt.show()"
      ]
    },
    {
      "cell_type": "markdown",
      "metadata": {
        "id": "j3hGakFAqLQX"
      },
      "source": [
        "Now we perform a 2-sample t-test to determine whether there is a significant difference in the means. The below results show that the null hypothesis was not rejected, suggesting there is not a significant difference in the average stress scores between heavy drinkers and non-drinkers."
      ]
    },
    {
      "cell_type": "code",
      "source": [
        "calcTTestStats (abstain_group, heavy_group)"
      ],
      "metadata": {
        "colab": {
          "base_uri": "https://localhost:8080/"
        },
        "id": "uLInAsm3Dd4K",
        "outputId": "28f268ee-c1ef-405d-82ff-824c4c644bdf"
      },
      "execution_count": 123,
      "outputs": [
        {
          "output_type": "stream",
          "name": "stdout",
          "text": [
            "T-statistic: -0.6260373584796187\n",
            "P-value: 0.5362324194498913\n",
            "95% Confidence Interval for the difference in means: ('-6.12993', '3.19610')\n",
            "\n",
            "Null hypothesis NOT rejected. There is no significant difference in means.\n"
          ]
        }
      ]
    },
    {
      "cell_type": "markdown",
      "metadata": {
        "id": "QrZz56T7qLxE"
      },
      "source": [
        "The results do not provide strong evidence of a significant difference in stress scores between abstainers and heavy drinkers. Investigating other factors, like GPA, depression score, and sleep quality, may yield more insights."
      ]
    },
    {
      "cell_type": "markdown",
      "metadata": {
        "id": "EOq6hhErDioM"
      },
      "source": [
        "## Is there a significant difference in the average number of drinks per week between students of different genders?"
      ]
    },
    {
      "cell_type": "markdown",
      "metadata": {
        "id": "ioQ-HStOD3CB"
      },
      "source": [
        "We begin by separating the number of drinks column based on the gender of the student."
      ]
    },
    {
      "cell_type": "code",
      "execution_count": 124,
      "metadata": {
        "id": "YcYsRtaXRFLr"
      },
      "outputs": [],
      "source": [
        "# @title\n",
        "male_drinks = default_dataset.loc[default_dataset['Gender'] == 1, 'Drinks']\n",
        "female_drinks = default_dataset.loc[default_dataset['Gender'] == 0, 'Drinks']"
      ]
    },
    {
      "cell_type": "markdown",
      "metadata": {
        "id": "iB6m5Ub0wPYe"
      },
      "source": [
        "Next, we observe the descriptions of each subset of data. We can see that the difference between their overall means is about 3.30, with males having a higher average."
      ]
    },
    {
      "cell_type": "code",
      "execution_count": 125,
      "metadata": {
        "colab": {
          "base_uri": "https://localhost:8080/"
        },
        "id": "1B7xLzAXTPEx",
        "outputId": "dd179e98-344d-47e7-8f6f-5f7071a65c91"
      },
      "outputs": [
        {
          "output_type": "stream",
          "name": "stdout",
          "text": [
            "=====Male Number of Drinks=====\n",
            "count    102.000000\n",
            "mean       7.539216\n",
            "std        4.928542\n",
            "min        0.000000\n",
            "25%        4.250000\n",
            "50%        8.000000\n",
            "75%       10.000000\n",
            "max       24.000000\n",
            "Name: Drinks, dtype: float64\n",
            "\n",
            "=====Female Number of Drinks=====\n",
            "count    151.000000\n",
            "mean       4.238411\n",
            "std        2.719580\n",
            "min        0.000000\n",
            "25%        2.000000\n",
            "50%        4.000000\n",
            "75%        6.000000\n",
            "max       12.000000\n",
            "Name: Drinks, dtype: float64\n"
          ]
        }
      ],
      "source": [
        "# @title\n",
        "print (\"=====Male Number of Drinks=====\")\n",
        "print (male_drinks.describe ())\n",
        "print ()\n",
        "\n",
        "print (\"=====Female Number of Drinks=====\")\n",
        "print (female_drinks.describe ())"
      ]
    },
    {
      "cell_type": "markdown",
      "metadata": {
        "id": "zME2bsFvwP75"
      },
      "source": [
        "The following figure shows the boxplots for each subset of data. The boxplot for males shows a greater range and more outliers. It also has a higher maximum value, although it shares its minimum value with the female boxplot."
      ]
    },
    {
      "cell_type": "code",
      "execution_count": 126,
      "metadata": {
        "colab": {
          "base_uri": "https://localhost:8080/",
          "height": 391
        },
        "id": "Zn-q4xJcTSFw",
        "outputId": "90d341f2-c6ee-4ce6-d455-800fa1c054cd"
      },
      "outputs": [
        {
          "output_type": "display_data",
          "data": {
            "text/plain": [
              "<Figure size 600x400 with 1 Axes>"
            ],
            "image/png": "[encoded data removed]"
          },
          "metadata": {}
        }
      ],
      "source": [
        "# @title\n",
        "plt.figure(figsize=(6, 4))\n",
        "plt.boxplot(\n",
        "    [male_drinks, female_drinks],\n",
        "    labels=['Male', 'Female'],\n",
        "    patch_artist=True,\n",
        "    boxprops=dict(facecolor='lightblue', color='blue'),\n",
        ")\n",
        "plt.title('Average Number of Drinks Per Week for Gender')\n",
        "plt.ylabel('Drinks Per Week')\n",
        "plt.grid(axis='y', linestyle='--', alpha=0.7)\n",
        "plt.show()"
      ]
    },
    {
      "cell_type": "markdown",
      "metadata": {
        "id": "X-Ju-aUEwQdO"
      },
      "source": [
        "Now we perform a 2-sample t-test to determine whether there is a significant difference in the means. The below results show that the null hypothesis was rejected, suggesting there is a significant difference in the average number of drinks per week for males/females."
      ]
    },
    {
      "cell_type": "code",
      "source": [
        "calcTTestStats (male_drinks, female_drinks)"
      ],
      "metadata": {
        "colab": {
          "base_uri": "https://localhost:8080/"
        },
        "id": "uWjOmdxtDod6",
        "outputId": "c0823242-3a52-437e-c833-f7d5e861ddce"
      },
      "execution_count": 127,
      "outputs": [
        {
          "output_type": "stream",
          "name": "stdout",
          "text": [
            "T-statistic: 6.160070148632675\n",
            "P-value: 7.0017434376785415e-09\n",
            "95% Confidence Interval for the difference in means: ('2.34982', '4.25179')\n",
            "\n",
            "Null hypothesis rejected. There is a significant difference in means.\n"
          ]
        }
      ]
    },
    {
      "cell_type": "markdown",
      "metadata": {
        "id": "9m5cxkf8wRAR"
      },
      "source": [
        "The results suggest that males generally consume more alcohol than females. The male boxplots also indicate a wider range of drinking habits compared to female plot. This could reflect a variety of social or cultural factors that warrant further investigation."
      ]
    },
    {
      "cell_type": "markdown",
      "metadata": {
        "id": "ePCSKK9CDi9T"
      },
      "source": [
        "## Is there a significant difference in the average weekday bedtime between students with high and low stress (Stress=High vs. Stress=Normal)?"
      ]
    },
    {
      "cell_type": "markdown",
      "metadata": {
        "id": "_701dJWoD3Xj"
      },
      "source": [
        "We begin by separating the weekday bedtime column based on whether the student has high or low stress."
      ]
    },
    {
      "cell_type": "code",
      "execution_count": 128,
      "metadata": {
        "id": "cLsNItgFZ9Cb"
      },
      "outputs": [],
      "source": [
        "# @title\n",
        "high_stress_bedtime = default_dataset.loc[default_dataset['Stress'] == 'high', 'WeekdayBed']\n",
        "normal_stress_bedtime = default_dataset.loc[default_dataset['Stress'] == 'normal', 'WeekdayBed']"
      ]
    },
    {
      "cell_type": "markdown",
      "metadata": {
        "id": "Z3qEt3KL02t1"
      },
      "source": [
        "Next, we observe the descriptions of each subset of data. We can see that the difference between their overall means is about 0.17, with the low stress students having the higher average."
      ]
    },
    {
      "cell_type": "code",
      "execution_count": 129,
      "metadata": {
        "colab": {
          "base_uri": "https://localhost:8080/"
        },
        "id": "S2-T5Nz8aFSl",
        "outputId": "76ad6185-36e9-49b1-ad41-8cebc9a99682"
      },
      "outputs": [
        {
          "output_type": "stream",
          "name": "stdout",
          "text": [
            "=====High Stress Weekly Bedtime=====\n",
            "count    56.000000\n",
            "mean     24.715000\n",
            "std       1.052759\n",
            "min      22.830000\n",
            "25%      24.100000\n",
            "50%      24.700000\n",
            "75%      25.217500\n",
            "max      26.800000\n",
            "Name: WeekdayBed, dtype: float64\n",
            "\n",
            "=====Low Stress Weekly Bedtime=====\n",
            "count    197.000000\n",
            "mean      24.885431\n",
            "std        1.027793\n",
            "min       21.800000\n",
            "25%       24.200000\n",
            "50%       24.900000\n",
            "75%       25.570000\n",
            "max       29.100000\n",
            "Name: WeekdayBed, dtype: float64\n"
          ]
        }
      ],
      "source": [
        "# @title\n",
        "print (\"=====High Stress Weekly Bedtime=====\")\n",
        "print (high_stress_bedtime.describe ())\n",
        "print ()\n",
        "\n",
        "print (\"=====Low Stress Weekly Bedtime=====\")\n",
        "print (normal_stress_bedtime.describe ())"
      ]
    },
    {
      "cell_type": "markdown",
      "metadata": {
        "id": "ZBJP6Vg203Sq"
      },
      "source": [
        "The following figure shows the boxplots for each subset of data. The boxplot for the low-stress students has a greater range and more outliers. It also has greater/smaller maximum/minimum values compared to the boxplot for high stress students."
      ]
    },
    {
      "cell_type": "code",
      "execution_count": 130,
      "metadata": {
        "colab": {
          "base_uri": "https://localhost:8080/",
          "height": 391
        },
        "id": "N0TYR6-raFqo",
        "outputId": "8ff8b670-86b5-4a1b-9dae-338b2bf9d588"
      },
      "outputs": [
        {
          "output_type": "display_data",
          "data": {
            "text/plain": [
              "<Figure size 600x400 with 1 Axes>"
            ],
            "image/png": "[encoded data removed]"
          },
          "metadata": {}
        }
      ],
      "source": [
        "# @title\n",
        "plt.figure(figsize=(6, 4))\n",
        "plt.boxplot(\n",
        "    [high_stress_bedtime, normal_stress_bedtime],\n",
        "    labels=['High Stress', 'Low Stress'],\n",
        "    patch_artist=True,\n",
        "    boxprops=dict(facecolor='lightblue', color='blue'),\n",
        ")\n",
        "plt.title('Average Weekly Bedtime for High/Low Stress')\n",
        "plt.ylabel('Weekday Bedtime (24.0 = Midnight)')\n",
        "plt.grid(axis='y', linestyle='--', alpha=0.7)\n",
        "plt.show()"
      ]
    },
    {
      "cell_type": "markdown",
      "metadata": {
        "id": "kPfJOVlw0344"
      },
      "source": [
        "Now we perform a 2-sample t-test to determine whether there is a significant difference in the means. The below results show that the null hypothesis was not rejected, suggesting there is not a significant difference in the weekday betime for high/low stress students."
      ]
    },
    {
      "cell_type": "code",
      "source": [
        "calcTTestStats (high_stress_bedtime, normal_stress_bedtime)"
      ],
      "metadata": {
        "colab": {
          "base_uri": "https://localhost:8080/"
        },
        "id": "dRaImCNCDtTy",
        "outputId": "bd393323-2327-4838-ffd5-5785c16fa42b"
      },
      "execution_count": 131,
      "outputs": [
        {
          "output_type": "stream",
          "name": "stdout",
          "text": [
            "T-statistic: -1.0746130058886139\n",
            "P-value: 0.2855177391067136\n",
            "95% Confidence Interval for the difference in means: ('-0.47862', '0.13775')\n",
            "\n",
            "Null hypothesis NOT rejected. There is no significant difference in means.\n"
          ]
        }
      ]
    },
    {
      "cell_type": "markdown",
      "metadata": {
        "id": "0b3Knz9v04iX"
      },
      "source": [
        "The results do not indicate a significant difference in weekday bedtime based on stress levels. Instead, it may be affected by other factors such as personal habits, whether they have early classes, and their social activities."
      ]
    },
    {
      "cell_type": "markdown",
      "metadata": {
        "id": "_v_hkUlKDjWx"
      },
      "source": [
        "## Is there a significant difference in the average hours of sleep on weekends between first two year students and other students?"
      ]
    },
    {
      "cell_type": "markdown",
      "metadata": {
        "id": "mVL7hbZUD3_J"
      },
      "source": [
        "We begin by separating the column containing the amount of weekend sleep each student gets. We split it into the lower class students (years 1-2) and the upper class students (years 3-4)."
      ]
    },
    {
      "cell_type": "code",
      "execution_count": 132,
      "metadata": {
        "id": "xuFgqlfQjggD"
      },
      "outputs": [],
      "source": [
        "# @title\n",
        "lower_class_sleep = default_dataset[default_dataset['ClassYear'].isin([1, 2])]['WeekendSleep']\n",
        "upper_class_sleep = default_dataset[default_dataset['ClassYear'].isin([3, 4])]['WeekendSleep']"
      ]
    },
    {
      "cell_type": "markdown",
      "metadata": {
        "id": "jwEFeFSW7CyF"
      },
      "source": [
        "Next, we observe the descriptions of each subset of data. We can see that the difference between their overall means is about 0.0083, with upper classmen having the higher average."
      ]
    },
    {
      "cell_type": "code",
      "execution_count": 133,
      "metadata": {
        "colab": {
          "base_uri": "https://localhost:8080/"
        },
        "id": "4Ba_Bub1jhs4",
        "outputId": "96758acc-792e-42d3-d7db-9bc148daef64"
      },
      "outputs": [
        {
          "output_type": "stream",
          "name": "stdout",
          "text": [
            "=====Lower Class Hours of Weekend Sleep=====\n",
            "count    142.000000\n",
            "mean       8.213592\n",
            "std        1.374464\n",
            "min        4.000000\n",
            "25%        7.250000\n",
            "50%        8.250000\n",
            "75%        9.437500\n",
            "max       11.000000\n",
            "Name: WeekendSleep, dtype: float64\n",
            "\n",
            "=====Upper Class Hours of Weekend Sleep=====\n",
            "count    111.000000\n",
            "mean       8.221892\n",
            "std        1.363108\n",
            "min        4.380000\n",
            "25%        7.270000\n",
            "50%        8.250000\n",
            "75%        9.065000\n",
            "max       12.750000\n",
            "Name: WeekendSleep, dtype: float64\n"
          ]
        }
      ],
      "source": [
        "# @title\n",
        "print (\"=====Lower Class Hours of Weekend Sleep=====\")\n",
        "print (lower_class_sleep.describe ())\n",
        "print ()\n",
        "\n",
        "print (\"=====Upper Class Hours of Weekend Sleep=====\")\n",
        "print (upper_class_sleep.describe ())"
      ]
    },
    {
      "cell_type": "markdown",
      "metadata": {
        "id": "v3R_MwCQ7Dav"
      },
      "source": [
        "The following figure shows the boxplots for each subset of data. The boxplot for upper class students has a couple of outliers and a greater maximum value. However, the boxplot for the lower classman shows a slightly larger IQR and a lower minimum value."
      ]
    },
    {
      "cell_type": "code",
      "execution_count": 134,
      "metadata": {
        "colab": {
          "base_uri": "https://localhost:8080/",
          "height": 391
        },
        "id": "530Dqle9jh8l",
        "outputId": "47a6dcab-86ad-447f-8f70-3f367928259f"
      },
      "outputs": [
        {
          "output_type": "display_data",
          "data": {
            "text/plain": [
              "<Figure size 600x400 with 1 Axes>"
            ],
            "image/png": "[encoded data removed]"
          },
          "metadata": {}
        }
      ],
      "source": [
        "# @title\n",
        "plt.figure(figsize=(6, 4))\n",
        "plt.boxplot(\n",
        "    [lower_class_sleep, upper_class_sleep],\n",
        "    labels=['Lower Class', 'Upper Class'],\n",
        "    patch_artist=True,\n",
        "    boxprops=dict(facecolor='lightblue', color='blue'),\n",
        ")\n",
        "plt.title('Average Hours of Weekend Sleep for Upper/Lower Classman')\n",
        "plt.ylabel('Amount of Weekend Sleep')\n",
        "plt.grid(axis='y', linestyle='--', alpha=0.7)\n",
        "plt.show()"
      ]
    },
    {
      "cell_type": "markdown",
      "metadata": {
        "id": "MUxYtlk57EEE"
      },
      "source": [
        "Now we perform a 2-sample t-test to determine whether there is a significant difference in the means. The below results show that the null hypothesis was not rejected, suggesting there is not a significant difference in the average amount of weekend sleep between lower/upper classmen."
      ]
    },
    {
      "cell_type": "code",
      "source": [
        "calcTTestStats (lower_class_sleep, upper_class_sleep)"
      ],
      "metadata": {
        "colab": {
          "base_uri": "https://localhost:8080/"
        },
        "id": "1ZHDCAa1D69P",
        "outputId": "0ad09818-9efc-4e14-cb96-399537ba14ba"
      },
      "execution_count": 135,
      "outputs": [
        {
          "output_type": "stream",
          "name": "stdout",
          "text": [
            "T-statistic: -0.04788758907862904\n",
            "P-value: 0.9618460981714023\n",
            "95% Confidence Interval for the difference in means: ('-0.35001', '0.33341')\n",
            "\n",
            "Null hypothesis NOT rejected. There is no significant difference in means.\n"
          ]
        }
      ]
    },
    {
      "cell_type": "markdown",
      "metadata": {
        "id": "EsrrWkcC7EcP"
      },
      "source": [
        "The results suggest no significant difference in weekend sleep hours between lower and upper-class students. Other factors may have a greater impact, such as the amount of weekend sleep may be more affected by extracurricular  activities, academic workload, depression score, or anxiety score."
      ]
    },
    {
      "cell_type": "markdown",
      "metadata": {
        "id": "qF3zlDJg7ZBq"
      },
      "source": [
        "# Summary"
      ]
    },
    {
      "cell_type": "markdown",
      "metadata": {
        "id": "4pQBHTcY7aUT"
      },
      "source": [
        "This report summarizes findings from a series of independent 2-sample t-tests that analyze various factors related to college student behaviors, feelings, and academics. Below is a summary of our findings and interpretations for each question:\n",
        "\n",
        "\n",
        "1.   **GPA and Gender**: There is a significant difference in average GPA between male and female college students, with females having a higher mean GPA (3.32 vs 3.12).\n",
        "2.   **Early Classes and Class Year**: Lower classmen (years 1-2) take significantly more early classes than upper classmen (years 3-4), with a difference in means of about 0.76.\n",
        "3.   **Cognitive Skills and Chronotype**: No significant difference was found in cognitive skills (measured by cognition z-score) between students who identify as \"larks\" (early risers) and \"owls\" (night owls).\n",
        "4.   **Missed Classes and Early Classes**: There is no significant difference in the average number of classes missed between students who had at least one early class and those who didn't.\n",
        "5.   **Happiness and Depression**: Students with at least moderate depression status have significantly lower happiness levels compared to those with normal depression status, with a difference in means of about 5.44.\n",
        "6.   **Sleep Quality and All-Nighters**: No significant difference was found in average sleep quality scores between students who reported having at least one all-nighter and those who didn't.\n",
        "7.   **Stress and Alcohol Use**: There is no significant difference in stress scores between students who abstain from alcohol and those who report heavy alcohol use.\n",
        "8.   **Alcohol Consumption and Gender**: Male students consume significantly more drinks per week on average compared to female students, with a difference of about 3.30 drinks.\n",
        "9.   **Weekday Bedtime and Stress**: There is no significant difference in average weekday bedtime between students with high and low stress levels.\n",
        "10.   **Weekend Sleep Duration and Class Year**: No significant difference was found in the average hours of sleep on weekends between first two-year students and other students.\n"
      ]
    },
    {
      "cell_type": "markdown",
      "source": [
        "Overall, this project was insightful for understanding the relationships between lifestyle choices, sleep, and academics. This information may be useful for creating policy recommendations at universities across the country to improve the performance and quality of life for their students. It may also serve as a basis for further research into the other factors affecting student health and performance."
      ],
      "metadata": {
        "id": "uuuS_5ARmhJ8"
      }
    },
    {
      "cell_type": "markdown",
      "metadata": {
        "id": "OiISKx3MC-9r"
      },
      "source": [
        "# References"
      ]
    },
    {
      "cell_type": "markdown",
      "metadata": {
        "id": "FAoVDsRxDEER"
      },
      "source": [
        "Lock, R., Lock, P., Morgan, K., Lock, E., & Lock, D. (2020). *SleepStudy* [Dataset]. https://www.lock5stat.com/datapage3e.html\n",
        "\n",
        "Lock, R., Lock, P., Morgan, K., Lock, E., & Lock, D. (2020). *Dataset documentaton for the third edition of “Statistics: UnLocking the Power of Data.”* Wiley. https://www.lock5stat.com/datasets3e/Lock5DataGuide3e.pdf\n",
        "\n",
        "Onyper, S. V., Thacher, P. V., Gilbert, J. W., & Gradess, S. G. (2012). Class start times, sleep, and academic performance in college: a path analysis. Chronobiology international, 29(3), 318–335. https://doi.org/10.3109/07420528.2012.655868"
      ]
    }
  ],
  "metadata": {
    "colab": {
      "provenance": []
    },
    "kernelspec": {
      "display_name": "Python 3",
      "name": "python3"
    },
    "language_info": {
      "name": "python"
    }
  },
  "nbformat": 4,
  "nbformat_minor": 0
}